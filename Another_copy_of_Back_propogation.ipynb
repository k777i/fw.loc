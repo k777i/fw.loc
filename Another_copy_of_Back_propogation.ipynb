{
  "nbformat": 4,
  "nbformat_minor": 0,
  "metadata": {
    "colab": {
      "provenance": [],
      "authorship_tag": "ABX9TyNA2bdEhKVme46EnpllBNSm",
      "include_colab_link": true
    },
    "kernelspec": {
      "name": "python3",
      "display_name": "Python 3"
    },
    "language_info": {
      "name": "python"
    }
  },
  "cells": [
    {
      "cell_type": "markdown",
      "metadata": {
        "id": "view-in-github",
        "colab_type": "text"
      },
      "source": [
        "<a href=\"https://colab.research.google.com/github/k777i/fw.loc/blob/master/Another_copy_of_Back_propogation.ipynb\" target=\"_parent\"><img src=\"https://colab.research.google.com/assets/colab-badge.svg\" alt=\"Open In Colab\"/></a>"
      ]
    },
    {
      "cell_type": "code",
      "execution_count": null,
      "metadata": {
        "id": "BUmAF9bNPoRx"
      },
      "outputs": [],
      "source": [
        "import numpy as np"
      ]
    },
    {
      "cell_type": "code",
      "source": [
        "def func_activ(x):\n",
        "    return 2/(1 + np.exp(-x))-1"
      ],
      "metadata": {
        "id": "AACjQ0mQP9Rb"
      },
      "execution_count": null,
      "outputs": []
    },
    {
      "cell_type": "code",
      "source": [
        "def d_func(x):\n",
        "    return 0.5*(1+x)*(1-x)"
      ],
      "metadata": {
        "id": "7d6FD8aeQiW-"
      },
      "execution_count": null,
      "outputs": []
    },
    {
      "cell_type": "code",
      "source": [
        "weight_1 = np.array([[-0.2, 0.3, -0.4],[0.1,-0.3, -0.4]])\n",
        "weight_2 = np.array([0.2, 0.3])"
      ],
      "metadata": {
        "id": "x0yMyOcTQ9gm"
      },
      "execution_count": null,
      "outputs": []
    },
    {
      "cell_type": "code",
      "source": [
        "def go_forward(input):\n",
        "    sum = np.dot(weight_1, input)\n",
        "    out = np.array(func_activ(x) for x in sum)\n",
        "\n",
        "    sum= np.dot(weight_2,out)\n",
        "    y = func_activ(sum)\n",
        "    return(y, out)"
      ],
      "metadata": {
        "id": "r-1hOMaTR5MW"
      },
      "execution_count": null,
      "outputs": []
    },
    {
      "cell_type": "code",
      "source": [
        "def train(epoch):\n",
        "    global weight_1,weight_2\n",
        "    lmd = 0.01\n",
        "    N = 1000\n",
        "    count    = len(epoch)\n",
        "    for k in range(N):\n",
        "       x = epoch[np.random.randint(0,count)]\n",
        "       y, out = go_forward(x[0:3])\n",
        "       e = y - x[-1]\n",
        "       delta = e * d_func(y)\n",
        "       weight_2[0] =weight_2[0]-lmd*delta*out[0]\n",
        "       weight_2[1] =weight_2[1]-lmd*delta*out[1]\n",
        "\n",
        "       delta2 = weight_2*delta*d_func(out)\n",
        "\n",
        "       weight_1[0, :] = weight_1[0, :] - np.array(x"
      ],
      "metadata": {
        "id": "t-eXlGRfTeL9"
      },
      "execution_count": null,
      "outputs": []
    }
  ]
}