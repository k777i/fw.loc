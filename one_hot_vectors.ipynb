{
  "nbformat": 4,
  "nbformat_minor": 0,
  "metadata": {
    "colab": {
      "provenance": [],
      "authorship_tag": "ABX9TyPew3J19xH16JLUvUHipAnu",
      "include_colab_link": true
    },
    "kernelspec": {
      "name": "python3",
      "display_name": "Python 3"
    },
    "language_info": {
      "name": "python"
    }
  },
  "cells": [
    {
      "cell_type": "markdown",
      "metadata": {
        "id": "view-in-github",
        "colab_type": "text"
      },
      "source": [
        "<a href=\"https://colab.research.google.com/github/k777i/fw.loc/blob/master/one_hot_vectors.ipynb\" target=\"_parent\"><img src=\"https://colab.research.google.com/assets/colab-badge.svg\" alt=\"Open In Colab\"/></a>"
      ]
    },
    {
      "cell_type": "code",
      "execution_count": 21,
      "metadata": {
        "id": "lVfFxFO1bjzX"
      },
      "outputs": [],
      "source": [
        "def one_hot_encode(word, vocabulary):\n",
        "    vector = [0] * len(vocabulary)\n",
        "    if word in vocabulary:\n",
        "        index = vocabulary.index(word)\n",
        "        vector[index] = 1\n",
        "    return vector\n",
        "\n",
        "vocabulary = ['apple','banana','orange','computer','pen']"
      ]
    },
    {
      "cell_type": "code",
      "source": [
        "print(one_hot_encode('computer',vocabulary))"
      ],
      "metadata": {
        "colab": {
          "base_uri": "https://localhost:8080/"
        },
        "id": "ClcVusnHiJcL",
        "outputId": "e91dd636-ad88-4e0b-8e52-edeb0095059a"
      },
      "execution_count": 22,
      "outputs": [
        {
          "output_type": "stream",
          "name": "stdout",
          "text": [
            "[0, 0, 0, 1, 0]\n"
          ]
        }
      ]
    },
    {
      "cell_type": "code",
      "source": [
        "vocabulary = ['apple','banana','orange','computer','pen']"
      ],
      "metadata": {
        "id": "QmdLKRQnmXVf"
      },
      "execution_count": 50,
      "outputs": []
    },
    {
      "cell_type": "code",
      "source": [
        "print(len(vocabulary))\n",
        "print(vocabulary.index('pen'))"
      ],
      "metadata": {
        "colab": {
          "base_uri": "https://localhost:8080/"
        },
        "id": "m_u46J2AiyyC",
        "outputId": "8d87d9ad-deab-4565-9fe3-fac18176ff8e"
      },
      "execution_count": 25,
      "outputs": [
        {
          "output_type": "stream",
          "name": "stdout",
          "text": [
            "5\n",
            "4\n"
          ]
        }
      ]
    },
    {
      "cell_type": "code",
      "source": [
        "def o_h_e(word, vocabulary):\n",
        "    vector = [0] * len(vocabulary)\n",
        "    if word in vocabulary:\n",
        "        index = vocabulary.index(word)\n",
        "        vector[index] = 1\n",
        "    return vector"
      ],
      "metadata": {
        "id": "HhaPrcsZk4EN"
      },
      "execution_count": 51,
      "outputs": []
    },
    {
      "cell_type": "code",
      "source": [
        "o_h_e('pen',vocabulary)"
      ],
      "metadata": {
        "colab": {
          "base_uri": "https://localhost:8080/"
        },
        "id": "eyp4iy24mQl8",
        "outputId": "f0e575df-2611-4c80-9673-df30f70e1c79"
      },
      "execution_count": 52,
      "outputs": [
        {
          "output_type": "execute_result",
          "data": {
            "text/plain": [
              "[0, 0, 0, 0, 1]"
            ]
          },
          "metadata": {},
          "execution_count": 52
        }
      ]
    }
  ]
}